{
 "cells": [
  {
   "cell_type": "code",
   "execution_count": null,
   "metadata": {},
   "outputs": [],
   "source": [
    "#\n",
    "# Dependences\n",
    "\n",
    "import pandas as pd\n",
    "import numpy as np\n",
    "import matplotlib.pyplot as plt\n",
    "%matplotlib inline"
   ]
  },
  {
   "cell_type": "code",
   "execution_count": null,
   "metadata": {},
   "outputs": [],
   "source": [
    "# Read the data and show a short sample\n",
    "measles = pd.read_csv(\"measles.csv\")\n",
    "measles.head()"
   ]
  },
  {
   "cell_type": "code",
   "execution_count": null,
   "metadata": {},
   "outputs": [],
   "source": [
    "#\n",
    "# transform week value YYYYMM to MM and YYYY\n",
    "# and show a short sample again.\n",
    "# Transformation takes place with an anonymous function\n",
    "# passed into .apply().\n",
    "#\n",
    "# First, we use the function int(str(x)[0:4]) to pull out\n",
    "# the year value from the YYYYWW entity in the dataset,\n",
    "# assigning it to new column [\"year\"] within the dataframe.\n",
    "#\n",
    "# Second, we use the function int(str(x)[4:7]) to pull out\n",
    "# the week value from YYYYWW, assigning it to new column\n",
    "# [\"week_num\"] within the dataframe.\n",
    "#\n",
    "# Finally, we drop the week column from the dataframe as it\n",
    "# is extraneous, using the method .drop()\n",
    "\n",
    "measles[\"year\"] = measles[\"week\"].apply(lambda x: int(str(x)[0:4]))\n",
    "measles[\"week_num\"] = measles[\"week\"].apply(lambda x: int(str(x)[4:7]))\n",
    "measles.drop(\"week\", axis = 1, inplace = True)\n",
    "measles.head(3)"
   ]
  },
  {
   "cell_type": "code",
   "execution_count": null,
   "metadata": {},
   "outputs": [],
   "source": [
    "def summarise(thisDataframe, byThisColumn):\n",
    "    #Group data\n",
    "    groupedByThisColumn = thisDataframe.groupby(by = byThisColumn)\n",
    "    #Summarise data as Series then convert back to Dataframe\n",
    "    cases_sum = pd.DataFrame(groupedByThisColumn[\"cases\"].sum()).reset_index()\n",
    "    cases_avg = pd.DataFrame(groupedByThisColumn[\"cases\"].mean()).reset_index()\n",
    "    avg_incidence_year = pd.DataFrame(groupedByThisColumn[\"incidence_per_capita\"].mean()).reset_index()\n",
    "    #Give columns sensible names\n",
    "    avg_incidence_year = avg_incidence_year.rename(columns = {\"incidence_per_capita\": \"avg_incidence_per_week\"})\n",
    "    cases_sum = cases_sum.rename(columns = {\"cases\": \"total_cases_per_year\"})\n",
    "    cases_avg = cases_avg.rename(columns = {\"cases\": \"avg_cases_per_week\"})\n",
    "    #Merge dataframes\n",
    "    cases = pd.merge(cases_avg, cases_sum)\n",
    "    newDataframe = pd.merge(avg_incidence_year, cases)\n",
    "    return newDataframe"
   ]
  },
  {
   "cell_type": "code",
   "execution_count": null,
   "metadata": {},
   "outputs": [],
   "source": [
    "measles_yearly_data = summarise(measles, byThisColumn = [\"year\", \"state_name\"])\n",
    "measles_yearly_data.head(3)"
   ]
  },
  {
   "cell_type": "code",
   "execution_count": null,
   "metadata": {},
   "outputs": [],
   "source": [
    "measles_year = summarise(measles, byThisColumn=[\"year\"])\n",
    "measles_year.head(3)"
   ]
  },
  {
   "cell_type": "code",
   "execution_count": null,
   "metadata": {},
   "outputs": [],
   "source": [
    "measles_year.plot(kind='scatter',x='year',y='avg_cases_per_week')\n",
    "plt.show()"
   ]
  }
 ],
 "metadata": {
  "kernelspec": {
   "display_name": "Python 3",
   "language": "python",
   "name": "python3"
  },
  "language_info": {
   "codemirror_mode": {
    "name": "ipython",
    "version": 3
   },
   "file_extension": ".py",
   "mimetype": "text/x-python",
   "name": "python",
   "nbconvert_exporter": "python",
   "pygments_lexer": "ipython3",
   "version": "3.7.3"
  }
 },
 "nbformat": 4,
 "nbformat_minor": 2
}
