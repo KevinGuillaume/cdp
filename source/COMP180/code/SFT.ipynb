{
 "cells": [
  {
   "cell_type": "markdown",
   "metadata": {},
   "source": [
    "# Simple plots\n",
    "\n",
    "This assignment asks you to draw two simple plots and observe their properties. The plots show the superposition of trigonometric functions in a way that they approximate a square wave. In theory, a square wave is represented by the following infinite sum:\n",
    "\n",
    "$$\n",
    "\\begin{aligned}\n",
    "s(x) &= \\frac{4}{\\pi}\\sum_{k=0}^{\\infty} \\frac{\\sin{ \\left(2\\pi (2k+1) f x\\right)}}{2k+1} \\\\ \\\\\n",
    "     &= \\frac{4}{\\pi} \\left(                   \\sin{(\\omega x)}\n",
    "                            + \\frac{1}{3}      \\sin{(3\\omega x)}\n",
    "                            + \\frac{1}{5}      \\sin{(5\\omega x)}\n",
    "                            + \\frac{1}{7}      \\sin{(7\\omega x)}\n",
    "                            + \\ldots\n",
    "     \\right),\\\\ \\\\ \\omega &= 2\\pi f\n",
    "\\end{aligned}\n",
    "$$ \n",
    "\n",
    "For this problem we simply things a bit. You are asked to draw a scaled-down version of $s(x)$:\n",
    "\n",
    "$$\n",
    "y(x) = \\left(              \\sin{(\\pi x)}\n",
    "             + \\frac{1}{3} \\sin{(3\\pi x)}\n",
    "             + \\frac{1}{5} \\sin{(5\\pi x)}\n",
    "             + \\frac{1}{7} \\sin{(7\\pi x)}\n",
    "             + \\frac{1}{9} \\sin{(9\\pi x)}\n",
    "       \\right)\n",
    "$$\n",
    "\n",
    "As you can see, we dropped the $4/\\pi$ factor in front of the sum, and we set $\\omega=\\pi$, to keep the math simple.\n",
    "\n",
    "After you plot the simplified $y(x)$ above, you are asked to add three more terms to the sum:\n",
    "\n",
    "$$\n",
    "yy(x) = y(x) + \\left(              \n",
    "               \\frac{1}{11} \\sin{(11\\pi x)}\n",
    "             + \\frac{1}{13} \\sin{(13\\pi x)}\n",
    "             + \\frac{1}{15} \\sin{(15\\pi x)}\n",
    "       \\right)\n",
    "$$\n"
   ]
  },
  {
   "cell_type": "code",
   "execution_count": null,
   "metadata": {},
   "outputs": [],
   "source": [
    "import numpy as np                # We need numpy for the math, and\n",
    "import matplotlib.pyplot as plt   # pyplot for the charts\n",
    "%matplotlib inline"
   ]
  },
  {
   "cell_type": "code",
   "execution_count": null,
   "metadata": {},
   "outputs": [],
   "source": [
    "# Input values in the interval (0, 3π/2), with step 0.001\n",
    "x = np.arange(0,3*PI/2,0.001)\n",
    "\n",
    "# Array pix has the values of array x multiplied by π. Using\n",
    "# pix instead of np.pi*x makes our code a bit more readable.\n",
    "pix = np.pi*x\n",
    "\n",
    "y1 = np.sin(1*pix)/1    # *1, /1, silly but good for consistency\n",
    "y3 = np.sin(3*pix)/3\n",
    "y5 = np.sin(5*pix)/5\n",
    "y7 = np.sin(7*pix)/7\n",
    "y9 = np.sin(9*pix)/9\n",
    "\n",
    "y11 = np.sin(11*pix)/11\n",
    "y13 = np.sin(13*pix)/13\n",
    "y15 = np.sin(15*pix)/15\n",
    "\n",
    "y = y1 + y3 + y5 + y7 + y9 \n",
    "yy = y + y11 + y13 + y15 "
   ]
  },
  {
   "cell_type": "code",
   "execution_count": null,
   "metadata": {},
   "outputs": [],
   "source": [
    "plt.figure(figsize=(5,5), dpi=100)\n",
    "plt.plot(x,y,color='#bb5555',linewidth=1)\n",
    "plt.plot(x,yy,color='#44bb44',linewidth=1)\n",
    "plt.show()"
   ]
  },
  {
   "cell_type": "markdown",
   "metadata": {},
   "source": [
    "# Observations\n",
    "\n",
    "Both $y(x)$ and $yy(x)$ have similar behavior: they rise and drop sharply, immitating a square wave. The $yy$ curve seems more dense, i.e., it has more \"crests\" and \"valleys\" than the $y$ one. That's probably because the additional terms `y11`, `y13`, and `y15` increase the frequency at which the behavior of the \"flat\" part changes.\n",
    "\n",
    "To demonstrate how the sum of sines approximates a square wave, we plot $y(x)$ and $yy(x)$ from above, against a sum with 1000 components, below."
   ]
  },
  {
   "cell_type": "code",
   "execution_count": null,
   "metadata": {},
   "outputs": [],
   "source": [
    "# Let's plot a LARGE number of terms to see how close we \n",
    "# can get to a square wave\n",
    "\n",
    "N = 1000\n",
    "s = np.sin(pix)\n",
    "k = 1\n",
    "\n",
    "while k <= N:\n",
    "    s = s + np.sin((2*k+1)*pix)/(2*k+1)\n",
    "    k=k+1\n",
    "\n",
    "plt.figure(figsize=(5,5), dpi=100)\n",
    "plt.plot(x,y,color='#ffeeee',linewidth=1)\n",
    "plt.plot(x,yy,color='#bbffbb',linewidth=1)\n",
    "plt.plot(x,s,color='#5555ff', linewidth=0.5)\n",
    "plt.show()"
   ]
  }
 ],
 "metadata": {
  "kernelspec": {
   "display_name": "Python 3",
   "language": "python",
   "name": "python3"
  },
  "language_info": {
   "codemirror_mode": {
    "name": "ipython",
    "version": 3
   },
   "file_extension": ".py",
   "mimetype": "text/x-python",
   "name": "python",
   "nbconvert_exporter": "python",
   "pygments_lexer": "ipython3",
   "version": "3.7.3"
  }
 },
 "nbformat": 4,
 "nbformat_minor": 2
}
